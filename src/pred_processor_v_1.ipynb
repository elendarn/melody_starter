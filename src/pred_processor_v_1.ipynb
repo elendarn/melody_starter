{
 "cells": [
  {
   "cell_type": "code",
   "execution_count": 1,
   "id": "0b50a350-4aee-4251-ba92-e6db37b472f7",
   "metadata": {},
   "outputs": [
    {
     "name": "stderr",
     "output_type": "stream",
     "text": [
      "2023-02-12 15:20:17.935759: I tensorflow/core/platform/cpu_feature_guard.cc:193] This TensorFlow binary is optimized with oneAPI Deep Neural Network Library (oneDNN) to use the following CPU instructions in performance-critical operations:  AVX2 FMA\n",
      "To enable them in other operations, rebuild TensorFlow with the appropriate compiler flags.\n",
      "2023-02-12 15:20:18.096855: W tensorflow/compiler/xla/stream_executor/platform/default/dso_loader.cc:64] Could not load dynamic library 'libcudart.so.11.0'; dlerror: libcudart.so.11.0: cannot open shared object file: No such file or directory\n",
      "2023-02-12 15:20:18.096873: I tensorflow/compiler/xla/stream_executor/cuda/cudart_stub.cc:29] Ignore above cudart dlerror if you do not have a GPU set up on your machine.\n",
      "2023-02-12 15:20:18.845389: W tensorflow/compiler/xla/stream_executor/platform/default/dso_loader.cc:64] Could not load dynamic library 'libnvinfer.so.7'; dlerror: libnvinfer.so.7: cannot open shared object file: No such file or directory\n",
      "2023-02-12 15:20:18.845483: W tensorflow/compiler/xla/stream_executor/platform/default/dso_loader.cc:64] Could not load dynamic library 'libnvinfer_plugin.so.7'; dlerror: libnvinfer_plugin.so.7: cannot open shared object file: No such file or directory\n",
      "2023-02-12 15:20:18.845491: W tensorflow/compiler/tf2tensorrt/utils/py_utils.cc:38] TF-TRT Warning: Cannot dlopen some TensorRT libraries. If you would like to use Nvidia GPU with TensorRT, please make sure the missing libraries mentioned above are installed properly.\n"
     ]
    }
   ],
   "source": [
    "#library for understanding music\n",
    "from music21 import *\n",
    "#for listing down the file names\n",
    "import os\n",
    "#Array Processing\n",
    "import numpy as np\n",
    "import pandas as pd\n",
    "#importing library\n",
    "from collections import Counter\n",
    "#library for visualiation\n",
    "import matplotlib.pyplot as plt\n",
    "\n",
    "import pickle\n",
    "from sklearn.model_selection import train_test_split\n",
    "\n",
    "import tensorflow as tf"
   ]
  },
  {
   "cell_type": "markdown",
   "id": "4a405a3b-fc57-4d2d-83cf-48070b6efa1b",
   "metadata": {},
   "source": [
    "### Loading model"
   ]
  },
  {
   "cell_type": "code",
   "execution_count": 36,
   "id": "c350ae4c-1294-40d5-ab4d-554344ba70a4",
   "metadata": {
    "tags": []
   },
   "outputs": [
    {
     "name": "stdout",
     "output_type": "stream",
     "text": [
      "Keras model archive loading:\n",
      "File Name                                             Modified             Size\n",
      "metadata.json                                  2023-02-11 02:15:04           64\n",
      "variables.h5                                   2023-02-11 02:15:04      2944824\n",
      "config.json                                    2023-02-11 02:15:04         4343\n",
      "Keras weights file (<HDF5 file \"variables.h5\" (mode r)>) loading:\n",
      "...layers\n",
      "......conv1d\n",
      ".........vars\n",
      "............0\n",
      "............1\n",
      "......conv1d_1\n",
      ".........vars\n",
      "............0\n",
      "............1\n",
      "......conv1d_2\n",
      ".........vars\n",
      "............0\n",
      "............1\n",
      "......dense\n",
      ".........vars\n",
      "............0\n",
      "............1\n",
      "......dense_1\n",
      ".........vars\n",
      "............0\n",
      "............1\n",
      "......dense_2\n",
      ".........vars\n",
      "............0\n",
      "............1\n",
      "......dropout\n",
      ".........vars\n",
      "......dropout_1\n",
      ".........vars\n",
      "......global_max_pooling1d\n",
      ".........vars\n",
      "......max_pooling1d\n",
      ".........vars\n",
      "......max_pooling1d_1\n",
      ".........vars\n",
      "...metrics\n",
      "......mean\n",
      ".........vars\n",
      "............0\n",
      "............1\n",
      "...optimizer\n",
      "......vars\n",
      ".........0\n",
      ".........1\n",
      ".........10\n",
      ".........11\n",
      ".........12\n",
      ".........13\n",
      ".........14\n",
      ".........15\n",
      ".........16\n",
      ".........17\n",
      ".........18\n",
      ".........19\n",
      ".........2\n",
      ".........20\n",
      ".........21\n",
      ".........22\n",
      ".........23\n",
      ".........24\n",
      ".........3\n",
      ".........4\n",
      ".........5\n",
      ".........6\n",
      ".........7\n",
      ".........8\n",
      ".........9\n",
      "...vars\n"
     ]
    }
   ],
   "source": [
    "#specify the path\n",
    "path='midi_files/'\n",
    "\n",
    "with open('saved_mido_pickle_files/modeL.pickle', 'rb') as handle:\n",
    "    loaded_model = pickle.load(handle)\n",
    "model = loaded_model"
   ]
  },
  {
   "cell_type": "code",
   "execution_count": 91,
   "id": "c35cf14f-ef1e-45ad-9098-3d049f4fd10d",
   "metadata": {},
   "outputs": [],
   "source": [
    "with open('saved_mido_pickle_files/just_notes-_liszt_mendelssohn_haydn_borodin_balakir_debussy_albeniz_granados_bach_schubert_beeth_chopin_grieg_burgm_brahms_mozart_tscha.pickle' ,'rb') as handle:\n",
    "    loaded_dict = pickle.load(handle)"
   ]
  },
  {
   "cell_type": "code",
   "execution_count": 92,
   "id": "bd48c196-78ca-4d51-a9fb-920d1dae2485",
   "metadata": {},
   "outputs": [],
   "source": [
    "slice_start = 0\n",
    "slice_end   = 16\n",
    "song_key    = 'bach_1'\n",
    "sample      = []"
   ]
  },
  {
   "cell_type": "code",
   "execution_count": 118,
   "id": "c15c7d2e-b81f-493d-818c-dfc930546520",
   "metadata": {},
   "outputs": [],
   "source": [
    "if len(loaded_songs[song_key])>= slice_end:\n",
    "    sample = list(loaded_dict[song_key][slice_start:slice_end])\n",
    "    #sample.append(sample)\n",
    "    #np.append(sample, sample)\n",
    "else:\n",
    "    print('Warning slicing index out of list of notes!')"
   ]
  },
  {
   "cell_type": "raw",
   "id": "a559bbba-4b15-4cfa-82c2-bc0edb3ace95",
   "metadata": {},
   "source": [
    "for notes in loaded_dict.values():\n",
    "    #print(notes)\n",
    "    #preparing input and output sequences\n",
    "    for k in range(0, notes.shape[0]-no_of_timesteps):\n",
    "        if len(notes) < (k+no_of_timesteps):\n",
    "            break        \n",
    "        input_ = notes[k:k+no_of_timesteps]\n",
    "        output_ = notes[k + no_of_timesteps]\n",
    "    \n",
    "        x.append(input_)\n",
    "        y.append(output_)"
   ]
  },
  {
   "cell_type": "code",
   "execution_count": 119,
   "id": "815940e7-4871-43d5-8353-55693856ca4e",
   "metadata": {},
   "outputs": [
    {
     "data": {
      "text/plain": [
       "16"
      ]
     },
     "execution_count": 119,
     "metadata": {},
     "output_type": "execute_result"
    }
   ],
   "source": [
    "sample2 = [72, 63, 62, 63, 60, 63, 62, 63, 72, 63, 62, 63, 60, 63, 62, 63]\n",
    "len(sample)"
   ]
  },
  {
   "cell_type": "code",
   "execution_count": 121,
   "id": "697d2aa7-51e5-4f1a-aa70-c569a496f6ee",
   "metadata": {},
   "outputs": [],
   "source": [
    "sample3 = []\n",
    "sample3.append(np.array(sample))\n",
    "sample3.append(np.array(sample2))"
   ]
  },
  {
   "cell_type": "code",
   "execution_count": 123,
   "id": "406beda8-b34c-48b1-8655-229b7c46e20b",
   "metadata": {},
   "outputs": [],
   "source": [
    "sample3=np.array(sample3)"
   ]
  },
  {
   "cell_type": "code",
   "execution_count": 124,
   "id": "1115ece5-988b-4efd-924a-b9654024c4ba",
   "metadata": {},
   "outputs": [
    {
     "data": {
      "text/plain": [
       "(2, 16)"
      ]
     },
     "execution_count": 124,
     "metadata": {},
     "output_type": "execute_result"
    }
   ],
   "source": [
    "sample3.shape"
   ]
  },
  {
   "cell_type": "raw",
   "id": "9ac872cc-a3e9-4732-ba5c-d9fa56cae8c8",
   "metadata": {},
   "source": [
    "sample = np.array(sample)\n",
    "tensor_sample = sample.reshape(sample.shape[0],sample.shape[1],1)"
   ]
  },
  {
   "cell_type": "code",
   "execution_count": 125,
   "id": "74f29386-ef84-404b-859f-9cb05d7e84df",
   "metadata": {},
   "outputs": [
    {
     "ename": "ValueError",
     "evalue": "Failed to find data adapter that can handle input: (<class 'list'> containing values of types {\"<class 'numpy.int64'>\"}), <class 'NoneType'>",
     "output_type": "error",
     "traceback": [
      "\u001b[0;31m---------------------------------------------------------------------------\u001b[0m",
      "\u001b[0;31mValueError\u001b[0m                                Traceback (most recent call last)",
      "\u001b[0;32m/tmp/ipykernel_5190/3854210035.py\u001b[0m in \u001b[0;36m<module>\u001b[0;34m\u001b[0m\n\u001b[0;32m----> 1\u001b[0;31m \u001b[0mpredt\u001b[0m \u001b[0;34m=\u001b[0m \u001b[0mmodel\u001b[0m\u001b[0;34m.\u001b[0m\u001b[0mpredict\u001b[0m\u001b[0;34m(\u001b[0m\u001b[0msample\u001b[0m\u001b[0;34m)\u001b[0m\u001b[0;34m\u001b[0m\u001b[0;34m\u001b[0m\u001b[0m\n\u001b[0m",
      "\u001b[0;32m~/anaconda3/lib/python3.9/site-packages/keras/utils/traceback_utils.py\u001b[0m in \u001b[0;36merror_handler\u001b[0;34m(*args, **kwargs)\u001b[0m\n\u001b[1;32m     68\u001b[0m             \u001b[0;31m# To get the full stack trace, call:\u001b[0m\u001b[0;34m\u001b[0m\u001b[0;34m\u001b[0m\u001b[0m\n\u001b[1;32m     69\u001b[0m             \u001b[0;31m# `tf.debugging.disable_traceback_filtering()`\u001b[0m\u001b[0;34m\u001b[0m\u001b[0;34m\u001b[0m\u001b[0m\n\u001b[0;32m---> 70\u001b[0;31m             \u001b[0;32mraise\u001b[0m \u001b[0me\u001b[0m\u001b[0;34m.\u001b[0m\u001b[0mwith_traceback\u001b[0m\u001b[0;34m(\u001b[0m\u001b[0mfiltered_tb\u001b[0m\u001b[0;34m)\u001b[0m \u001b[0;32mfrom\u001b[0m \u001b[0;32mNone\u001b[0m\u001b[0;34m\u001b[0m\u001b[0;34m\u001b[0m\u001b[0m\n\u001b[0m\u001b[1;32m     71\u001b[0m         \u001b[0;32mfinally\u001b[0m\u001b[0;34m:\u001b[0m\u001b[0;34m\u001b[0m\u001b[0;34m\u001b[0m\u001b[0m\n\u001b[1;32m     72\u001b[0m             \u001b[0;32mdel\u001b[0m \u001b[0mfiltered_tb\u001b[0m\u001b[0;34m\u001b[0m\u001b[0;34m\u001b[0m\u001b[0m\n",
      "\u001b[0;32m~/anaconda3/lib/python3.9/site-packages/keras/engine/data_adapter.py\u001b[0m in \u001b[0;36mselect_data_adapter\u001b[0;34m(x, y)\u001b[0m\n\u001b[1;32m   1079\u001b[0m     \u001b[0;32mif\u001b[0m \u001b[0;32mnot\u001b[0m \u001b[0madapter_cls\u001b[0m\u001b[0;34m:\u001b[0m\u001b[0;34m\u001b[0m\u001b[0;34m\u001b[0m\u001b[0m\n\u001b[1;32m   1080\u001b[0m         \u001b[0;31m# TODO(scottzhu): This should be a less implementation-specific error.\u001b[0m\u001b[0;34m\u001b[0m\u001b[0;34m\u001b[0m\u001b[0m\n\u001b[0;32m-> 1081\u001b[0;31m         raise ValueError(\n\u001b[0m\u001b[1;32m   1082\u001b[0m             \"Failed to find data adapter that can handle input: {}, {}\".format(\n\u001b[1;32m   1083\u001b[0m                 \u001b[0m_type_name\u001b[0m\u001b[0;34m(\u001b[0m\u001b[0mx\u001b[0m\u001b[0;34m)\u001b[0m\u001b[0;34m,\u001b[0m \u001b[0m_type_name\u001b[0m\u001b[0;34m(\u001b[0m\u001b[0my\u001b[0m\u001b[0;34m)\u001b[0m\u001b[0;34m\u001b[0m\u001b[0;34m\u001b[0m\u001b[0m\n",
      "\u001b[0;31mValueError\u001b[0m: Failed to find data adapter that can handle input: (<class 'list'> containing values of types {\"<class 'numpy.int64'>\"}), <class 'NoneType'>"
     ]
    }
   ],
   "source": [
    "predt = model.predict(sample)"
   ]
  },
  {
   "cell_type": "code",
   "execution_count": 31,
   "id": "20d329a2-191b-4227-918c-b4752798f644",
   "metadata": {},
   "outputs": [],
   "source": [
    "sample=sample.reshape(1, 16, 1)"
   ]
  },
  {
   "cell_type": "code",
   "execution_count": null,
   "id": "28ca69aa-350f-4202-acba-babaee03ba11",
   "metadata": {},
   "outputs": [],
   "source": []
  }
 ],
 "metadata": {
  "kernelspec": {
   "display_name": "Python 3 (ipykernel)",
   "language": "python",
   "name": "python3"
  },
  "language_info": {
   "codemirror_mode": {
    "name": "ipython",
    "version": 3
   },
   "file_extension": ".py",
   "mimetype": "text/x-python",
   "name": "python",
   "nbconvert_exporter": "python",
   "pygments_lexer": "ipython3",
   "version": "3.9.13"
  }
 },
 "nbformat": 4,
 "nbformat_minor": 5
}
