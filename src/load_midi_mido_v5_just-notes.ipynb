{
 "cells": [
  {
   "cell_type": "code",
   "execution_count": null,
   "id": "11199a5e-b2b9-432e-87df-ae90eada8231",
   "metadata": {},
   "outputs": [],
   "source": [
    "import numpy as np\n",
    "import mido\n",
    "from mido import MidiFile\n",
    "import os\n",
    "import pickle"
   ]
  },
  {
   "cell_type": "code",
   "execution_count": null,
   "id": "50a92faf-2cf2-4255-90b1-ecb2ec97d749",
   "metadata": {},
   "outputs": [],
   "source": [
    "def calculate_duration(initial, final, timer):\n",
    "    temp = 0\n",
    "    for i in range(initial+1, final+1):\n",
    "        temp = temp + timer[i]        \n",
    "    return temp"
   ]
  },
  {
   "cell_type": "code",
   "execution_count": null,
   "id": "dc6469ff-d7f3-4594-a3c2-cb9394ce74ed",
   "metadata": {},
   "outputs": [],
   "source": [
    "def calculate_delay(counter, timer, velocities):\n",
    "    delay = timer[counter]\n",
    "    \n",
    "    if counter == 0:\n",
    "        return delay\n",
    "    \n",
    "    for i in range(counter, -1, -1):\n",
    "        delay = delay + timer[i]\n",
    "        if timer[i] > 5 and velocities[i] > 0:\n",
    "            return delay\n",
    "    \n",
    "    return delay\n"
   ]
  },
  {
   "cell_type": "code",
   "execution_count": null,
   "id": "673ee2b0-c360-42a0-b372-7179bad91b3d",
   "metadata": {},
   "outputs": [],
   "source": [
    "\n"
   ]
  },
  {
   "cell_type": "raw",
   "id": "779df0bf-f48c-4c98-90de-9df31d44cef7",
   "metadata": {},
   "source": [
    "def calculate_delays2(time_, timer, counter, velocities): \n",
    "    delay = time_\n",
    "    hak=[]\n",
    "    if counter == 0:\n",
    "        return 666\n",
    "    gf=''\n",
    "    for i in range(counter, -1, -1):\n",
    "        gf = gf +'_'+str(i)\n",
    "        if timer[i] > 5 and velocities[i] > 0:\n",
    "            return gf+'++'\n",
    "    return gf\n"
   ]
  },
  {
   "cell_type": "code",
   "execution_count": null,
   "id": "d7730b9b-dabf-4124-b0a5-afbcc62e00dd",
   "metadata": {
    "tags": []
   },
   "outputs": [],
   "source": [
    "def extract_midi(path):\n",
    "    deneme=[]\n",
    "    \n",
    "    # Initialize a list to store the sequence of notes, velocity, duration and delay\n",
    "    #path='midi_files/tscha/ty_dezember.mid'\n",
    "    sequence  = []\n",
    "    velocity  = []\n",
    "    delay     = [] #the time between the note and previous note pressed (velocity!=0)\n",
    "    note_dur  = []\n",
    "    \n",
    "    timer     = [] #keeps track of delay(time) in every note\n",
    "    velocities= []\n",
    "    \n",
    "    # Load the MIDI file\n",
    "    mid = MidiFile(path)\n",
    "    # Iterate over the tracks in the MIDI file\n",
    "    for track in mid.tracks:\n",
    "        temp={}       #keys are notes, values are (i, velocity)\n",
    "        counter=0     #count note_on messages\n",
    "        \n",
    "        # Iterate over the messages in each track\n",
    "        for msg in (track):\n",
    "            #print(msg)\n",
    "            # Check if the message is a note-on message\n",
    "            if msg.type == 'note_on':\n",
    "                #print(msg)\n",
    "                timer.append(msg.time) #write time of every note_on message\n",
    "                velocities.append(msg.velocity)\n",
    "\n",
    "                if msg.velocity != 0:\n",
    "                    temp[msg.note]=(counter, msg.velocity)   \n",
    "                elif msg.velocity == 0:\n",
    "                    if msg.note not in temp:\n",
    "                        continue\n",
    "                    sequence.append(msg.note)\n",
    "                    #if not isinstance(temp[msg.note][1], int):\n",
    "                      #  temp[msg.note][1] = 0\n",
    "                    velocity.append(temp[msg.note][1])\n",
    "                    note_dur.append(calculate_duration(temp[msg.note][0], counter, timer))\n",
    "                    delay.append(calculate_delay(temp[msg.note][0], timer, velocities))\n",
    "                    del temp[msg.note]\n",
    "\n",
    "\n",
    "                counter=counter+1    \n",
    "    \n",
    "    return np.array(sequence)#np.column_stack()############[len(sequence),len(velocity),len(note_dur),len(delay)])#\n",
    "#a=extract_midi('')\n",
    "#a\n",
    "#Algortim buyuk ihtimal ile farkli zamanlarda baslayip beraber devam eden notalari algilamiyor! dict kullandigim icin"
   ]
  },
  {
   "cell_type": "code",
   "execution_count": null,
   "id": "fca29b19-c674-4621-9fa1-13772a7149f6",
   "metadata": {
    "tags": []
   },
   "outputs": [],
   "source": [
    "def artist_collection(path,artist_names):\n",
    "    '''\n",
    "    Input: (list) directories of midi files, Output: (list) notes of all songs of all artists\n",
    "    -----------------------------------------------------------------------------------------\n",
    "    '''\n",
    "    temp={}\n",
    "    notes_dic={}\n",
    "    file_name=''\n",
    "    for count, artist in enumerate(artist_names, start=1):\n",
    "        file_name=file_name+'_'+artist\n",
    "        the_path=(path+artist+'/')\n",
    "        files=[i for i in os.listdir(the_path) if i.endswith(\".mid\")]\n",
    "\n",
    "        for k, i in enumerate(files, start=1):\n",
    "            print(f'=================================== Loading files {k}/{len(files)}, artists: {count}/{len(artist_names)}')\n",
    "            label=f'{artist}_{k}'\n",
    "            temp[label] = extract_midi(the_path+i)\n",
    "      \n",
    "    with open(f'saved_mido_pickle_files/just_notes-{file_name}.pickle', 'wb') as handle:\n",
    "        pickle.dump(temp, handle, protocol=pickle.HIGHEST_PROTOCOL)\n",
    "            \n",
    "    return temp"
   ]
  },
  {
   "cell_type": "code",
   "execution_count": null,
   "id": "9c564a1f-f010-4f22-90c7-1e11f7358f1f",
   "metadata": {},
   "outputs": [],
   "source": [
    "def main(path, artist):\n",
    "    return artist_collection(path,artist_names)"
   ]
  },
  {
   "cell_type": "code",
   "execution_count": null,
   "id": "9c59d3c9-530a-4540-a248-f246a93ed26f",
   "metadata": {
    "tags": []
   },
   "outputs": [],
   "source": [
    "path='midi_files/'\n",
    "artist_names=['bach','schubert','beeth']\n",
    "#the1_path=path+artist_names\n",
    "\n",
    "all_artist_names = [i for i in os.listdir(path)]\n",
    "artist_names = all_artist_names[:17]\n",
    "artist_names"
   ]
  },
  {
   "cell_type": "code",
   "execution_count": null,
   "id": "1ac86a83-9c54-4455-a753-4052cc02bbb7",
   "metadata": {},
   "outputs": [],
   "source": []
  },
  {
   "cell_type": "code",
   "execution_count": null,
   "id": "6cb735e0-2436-4aa9-b012-e4fb9cffccab",
   "metadata": {
    "tags": []
   },
   "outputs": [],
   "source": [
    "loaded_dict=main(path, artist_names)"
   ]
  },
  {
   "cell_type": "markdown",
   "id": "37eb5fdf-f3c8-4558-a37b-f6fdc8a6d308",
   "metadata": {
    "tags": []
   },
   "source": [
    "#### das"
   ]
  },
  {
   "cell_type": "raw",
   "id": "fe25a076-117b-4490-bf73-d4ed7f20d957",
   "metadata": {},
   "source": [
    "# Normalize the velocity values\n",
    "velocity = np.array(velocity)\n",
    "velocity = (velocity - np.min(velocity)) / (np.max(velocity) - np.min(velocity))\n",
    "# One-hot encode the velocity values\n",
    "num_velocity_values = 8\n",
    "velocity_one_hot = np.zeros((len(velocity), num_velocity_values))\n",
    "velocity_one_hot[np.arange(len(velocity)), np.round(velocity * (num_velocity_values - 1)).astype(int)] = 1\n",
    "# Normalize the timing values\n",
    "timing = np.array(timing)\n",
    "timing = (timing - np.min(timing)) / (np.max(timing) - np.min(timing))\n",
    "# One-hot encode the timing values\n",
    "num_timing_values = 8\n",
    "timing_one_hot = np.zeros((len(timing), num_timing_values))\n",
    "timing_one_hot[np.arange(len(timing)), np.round(timing * (num_timing_values - 1)).astype(int)] = 1\n"
   ]
  },
  {
   "cell_type": "raw",
   "id": "d2a77763-0cc2-483e-97b4-6a44af645769",
   "metadata": {},
   "source": [
    "# Concatenate the sequence, velocity, and timing information\n",
    "np.array(sequence)\n",
    "input_data = np.concatenate((sequence, velocity_one_hot, timing_one_hot), axis=1)"
   ]
  },
  {
   "cell_type": "code",
   "execution_count": null,
   "id": "f501a9ce-a969-49ef-af78-cad03f4f077d",
   "metadata": {},
   "outputs": [],
   "source": []
  }
 ],
 "metadata": {
  "kernelspec": {
   "display_name": "Python 3 (ipykernel)",
   "language": "python",
   "name": "python3"
  },
  "language_info": {
   "codemirror_mode": {
    "name": "ipython",
    "version": 3
   },
   "file_extension": ".py",
   "mimetype": "text/x-python",
   "name": "python",
   "nbconvert_exporter": "python",
   "pygments_lexer": "ipython3",
   "version": "3.9.13"
  }
 },
 "nbformat": 4,
 "nbformat_minor": 5
}
